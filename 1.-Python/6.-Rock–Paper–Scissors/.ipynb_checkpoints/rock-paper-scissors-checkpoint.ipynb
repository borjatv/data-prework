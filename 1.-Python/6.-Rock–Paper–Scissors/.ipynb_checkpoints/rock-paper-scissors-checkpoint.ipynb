{
 "cells": [
  {
   "cell_type": "markdown",
   "metadata": {},
   "source": [
    "<img src=\"https://bit.ly/2VnXWr2\" width=\"100\" align=\"left\">"
   ]
  },
  {
   "cell_type": "markdown",
   "metadata": {},
   "source": [
    "# Rock, Paper & Scissors\n",
    "\n",
    "Let's play the famous game against our computer. You can check the rules [here](https://en.wikipedia.org/wiki/Rock%E2%80%93paper%E2%80%93scissors). \n",
    "\n",
    "## Task\n",
    "Create a program that imitates the playability of the well known game of rock, paper, scissors. Follow the guidelines provided.\n",
    "\n",
    "## Tools\n",
    "1. Loop: **for/while**\n",
    "2. Functions: **input(), print()...**\n",
    "3. Conditional statements: **if, elif, else**\n",
    "4. Definition of functions. Modular programming\n",
    "5. Import modules\n",
    "\n",
    "**To solve this challenge, the use of functions is recommended.**\n",
    "\n",
    "#### 1. Import the choice function of the random module."
   ]
  },
  {
   "cell_type": "code",
   "execution_count": 1,
   "metadata": {},
   "outputs": [],
   "source": [
    "import random\n"
   ]
  },
  {
   "cell_type": "markdown",
   "metadata": {},
   "source": [
    "#### 2. Create a list that includes the 3 possible gesture options of the game: 'rock', 'paper' or 'scissors'. Store the list in a variable called `gestures`."
   ]
  },
  {
   "cell_type": "code",
   "execution_count": 2,
   "metadata": {},
   "outputs": [],
   "source": [
    "gestures = ['rock', 'paper', 'scissors']\n"
   ]
  },
  {
   "cell_type": "markdown",
   "metadata": {},
   "source": [
    "#### 3. Create a variable called `n_rounds` to store the maximum number of rounds to play in a game. \n",
    "Remember that the number of rounds must be odd: 1, 3, 5, ..."
   ]
  },
  {
   "cell_type": "code",
   "execution_count": 3,
   "metadata": {},
   "outputs": [],
   "source": [
    "n_rounds = 5\n"
   ]
  },
  {
   "cell_type": "markdown",
   "metadata": {},
   "source": [
    "#### 4. Create a variable called `rounds_to_win` to store the number of rounds that a player must win to win the game.\n",
    "**Hint**: the value stored in `rounds_to_win` depends on the value of `n_rounds`. "
   ]
  },
  {
   "cell_type": "code",
   "execution_count": 4,
   "metadata": {},
   "outputs": [],
   "source": [
    "rounds_to_win = int(n_rounds/2) + 1\n"
   ]
  },
  {
   "cell_type": "markdown",
   "metadata": {},
   "source": [
    "#### 5. Create two variables to store the number of rounds that the computer and the player have won. Call these variables `cpu_score` and `player_score`."
   ]
  },
  {
   "cell_type": "code",
   "execution_count": 5,
   "metadata": {},
   "outputs": [],
   "source": [
    "cpu_score = 0\n",
    "player_score = 0\n"
   ]
  },
  {
   "cell_type": "markdown",
   "metadata": {},
   "source": [
    "#### 6. Define a function that randomly returns one of the 3 gesture options.\n",
    "You will use this function to simulate the gesture choice of the computer. "
   ]
  },
  {
   "cell_type": "code",
   "execution_count": 6,
   "metadata": {},
   "outputs": [],
   "source": [
    "def com():\n",
    "    resultcom = random.choice(gestures)\n",
    "    return resultcom\n"
   ]
  },
  {
   "cell_type": "markdown",
   "metadata": {},
   "source": [
    "#### 7. Define a function that asks the player which is the gesture he or she wants to show: 'rock', 'paper' or 'scissors'.\n",
    "The player should only be allowed to choose one of the 3 gesture options. If the player's choice is not rock, paper or scissors, keep asking until it is."
   ]
  },
  {
   "cell_type": "code",
   "execution_count": 7,
   "metadata": {},
   "outputs": [],
   "source": [
    "def player():\n",
    "    print('rock, paper or scissors?')\n",
    "    resultplayer = input()\n",
    "    while (resultplayer != 'rock') & (resultplayer != 'paper') & (resultplayer != 'scissors'):\n",
    "        print('Not valid')\n",
    "        print('rock, paper or scissors?')\n",
    "        resultplayer = input()\n",
    "    return resultplayer\n",
    "        "
   ]
  },
  {
   "cell_type": "markdown",
   "metadata": {},
   "source": [
    "#### 8. Define a function that checks who won a round. \n",
    "The function should return 0 if there is a tie, 1 if the computer wins and 2 if the player wins."
   ]
  },
  {
   "cell_type": "code",
   "execution_count": 8,
   "metadata": {
    "scrolled": true
   },
   "outputs": [],
   "source": [
    "def winner(p, c):\n",
    "    if (p == c):\n",
    "        result = 0\n",
    "    elif (p == 'paper'):\n",
    "        if (c == 'scissors'):\n",
    "            result = 1\n",
    "        elif (c == 'rock'):\n",
    "            result = 2\n",
    "    elif (p == 'scissors'):\n",
    "        if (c == 'rock'):\n",
    "            result = 1\n",
    "        elif (c == 'paper'):\n",
    "            result = 2\n",
    "    elif (p == 'rock'):\n",
    "        if (c == 'paper'):\n",
    "            result = 1\n",
    "        elif (c == 'scissors'):\n",
    "            result = 2\n",
    "    return result\n",
    "\n"
   ]
  },
  {
   "cell_type": "markdown",
   "metadata": {},
   "source": [
    "#### 9. Define a function that prints the choice of the computer, the choice of the player and a message that announces who won the current round. \n",
    "You should also use this function to update the variables that count the number of rounds that the computer and the player have won. The score of the winner increases by one point. If there is a tie, the score does not increase."
   ]
  },
  {
   "cell_type": "code",
   "execution_count": 9,
   "metadata": {},
   "outputs": [],
   "source": [
    "def prints(p, c, w):\n",
    "    print(\"Player has chosen\", p)\n",
    "    print(\"COM has chosen\", c)\n",
    "    global cpu_score\n",
    "    global player_score\n",
    "    if (w == 0):\n",
    "        print(\"It's a tie\")\n",
    "    elif (w == 1):\n",
    "        print(\"The winner is COM\")\n",
    "        cpu_score += 1\n",
    "    elif (w == 2):\n",
    "        print(\"The winner is player\")\n",
    "        player_score += 1\n",
    "    return player_score\n",
    "    return cpu_score"
   ]
  },
  {
   "cell_type": "markdown",
   "metadata": {},
   "source": [
    "#### 10. Now it's time to code the execution of the game using the functions and variables you defined above. \n",
    "\n",
    "First, create a loop structure that repeats while no player reaches the minimum score necessary to win and the number of rounds is less than the maximum number of rounds to play in a game.  \n",
    "\n",
    "Inside the loop, use the functions and variables above to create the execution of a round: ask for the player's choice, generate the random choice of the computer, show the round results, update the scores, etc. "
   ]
  },
  {
   "cell_type": "code",
   "execution_count": 10,
   "metadata": {},
   "outputs": [
    {
     "name": "stdout",
     "output_type": "stream",
     "text": [
      "rock, paper or scissors?\n",
      "paper\n",
      "Player has chosen paper\n",
      "COM has chosen scissors\n",
      "The winner is COM\n",
      "Player score: 0\n",
      "COM score 1\n",
      "rock, paper or scissors?\n",
      "rock\n",
      "Player has chosen rock\n",
      "COM has chosen rock\n",
      "It's a tie\n",
      "Player score: 0\n",
      "COM score 1\n",
      "rock, paper or scissors?\n",
      "as\n",
      "Not valid\n",
      "rock, paper or scissors?\n",
      "scissors\n",
      "Player has chosen scissors\n",
      "COM has chosen paper\n",
      "The winner is player\n",
      "Player score: 1\n",
      "COM score 1\n",
      "rock, paper or scissors?\n",
      "paper\n",
      "Player has chosen paper\n",
      "COM has chosen paper\n",
      "It's a tie\n",
      "Player score: 1\n",
      "COM score 1\n",
      "rock, paper or scissors?\n",
      "rock\n",
      "Player has chosen rock\n",
      "COM has chosen rock\n",
      "It's a tie\n",
      "Player score: 1\n",
      "COM score 1\n",
      "rock, paper or scissors?\n",
      "scissors\n",
      "Player has chosen scissors\n",
      "COM has chosen scissors\n",
      "It's a tie\n",
      "Player score: 1\n",
      "COM score 1\n",
      "rock, paper or scissors?\n",
      "paper\n",
      "Player has chosen paper\n",
      "COM has chosen rock\n",
      "The winner is player\n",
      "Player score: 2\n",
      "COM score 1\n",
      "rock, paper or scissors?\n",
      "paper\n",
      "Player has chosen paper\n",
      "COM has chosen rock\n",
      "The winner is player\n",
      "Player score: 3\n",
      "COM score 1\n"
     ]
    }
   ],
   "source": [
    "while (cpu_score < rounds_to_win) & (player_score < rounds_to_win):\n",
    "    a = player()\n",
    "    b = com()\n",
    "    c = winner(a,b)\n",
    "    prints(a, b, c)\n",
    "    print(\"Player score:\", player_score)\n",
    "    print(\"COM score\", cpu_score)\n",
    "    \n",
    "    "
   ]
  },
  {
   "cell_type": "markdown",
   "metadata": {},
   "source": [
    "#### 11. Print the winner of the game based on who won more rounds.\n",
    "Remember that the game might be tied. "
   ]
  },
  {
   "cell_type": "code",
   "execution_count": 11,
   "metadata": {},
   "outputs": [
    {
     "name": "stdout",
     "output_type": "stream",
     "text": [
      "The final winner is player\n"
     ]
    }
   ],
   "source": [
    "if (player_score > cpu_score):\n",
    "    print(\"The final winner is player\")\n",
    "elif (player_score < cpu_score):\n",
    "    print(\"The final winner is COM\")\n",
    "elif (player_score == cpu_score):\n",
    "    print(\"It's a tie\")"
   ]
  },
  {
   "cell_type": "markdown",
   "metadata": {},
   "source": [
    "# Bonus: Rock, Paper, Scissors, Lizard & Spock\n",
    "![](images/rpsls.jpg)\n",
    "\n",
    "In this challenge, you need to improve the previous game by adding two new options. To know more about the rules of the improved version of rock, paper, scissors, check this [link](http://www.samkass.com/theories/RPSSL.html). \n",
    "\n",
    "In addition, you will also need to improve how the game interacts with the player: the number of rounds to play, which must be an odd number, will be requested to the user until a valid number is entered. Define a new function to make that request.\n",
    "\n",
    "**Hint**: Try to reuse the code that you already coded in the previous challenge. If your code is efficient, this bonus will only consist of simple modifications to the original game."
   ]
  },
  {
   "cell_type": "code",
   "execution_count": 33,
   "metadata": {},
   "outputs": [
    {
     "name": "stdout",
     "output_type": "stream",
     "text": [
      "How many rounds?\n",
      "1\n",
      "rock, paper, scissors, lizard or spock?\n",
      "rock\n",
      "Player has chosen rock\n",
      "COM has chosen paper\n",
      "The winner is COM\n",
      "Player score: 0\n",
      "COM score 1\n",
      "The final winner is COM\n"
     ]
    }
   ],
   "source": [
    "# 1) definitinon and execution of the function that sets the number of rounds\n",
    "\n",
    "def numrounds():\n",
    "    print('How many rounds?')\n",
    "    r = int(input())\n",
    "    while (r % 2 != 1):\n",
    "        print('Number must be odd')\n",
    "        print('Enter odd number')\n",
    "        r = int(input())\n",
    "    global n_rounds\n",
    "    n_rounds = r\n",
    "    return r\n",
    "    print(n_rounds)\n",
    "\n",
    "rounds_to_win = int(n_rounds/2) + 1\n",
    "numrounds()\n",
    "\n",
    "# 2) equializes both scores back to 0\n",
    "\n",
    "cpu_score = 0\n",
    "player_score = 0\n",
    "\n",
    "# 3) defines the new winner function with the extras: lizard & spock\n",
    "\n",
    "def winspock(p,c):\n",
    "    if (p == c):\n",
    "        r = 0\n",
    "    elif (p == 'rock'):\n",
    "        if (c == 'lizard') | (c == 'scissors'):\n",
    "            r = 2\n",
    "        else: r = 1\n",
    "    elif (p == 'lizard'):\n",
    "        if (c == 'spock') | (c == 'paper'):\n",
    "            r = 2\n",
    "        else: r = 1\n",
    "    elif (p == 'spock'):\n",
    "        if (c == 'scissors') | (c == 'rock'):\n",
    "            r = 2\n",
    "        else: r = 1\n",
    "    elif (p == 'scissors'):\n",
    "        if (c == 'paper') | (c == 'lizard'):\n",
    "            r = 2\n",
    "        else: r = 1\n",
    "    elif (p == 'paper'):\n",
    "        if (c == 'spock') | (c == 'rock'):\n",
    "            r = 2\n",
    "        else: r = 1\n",
    "    return r\n",
    "        \n",
    "# 4) updates the list gestures to avoid creating again function for computer\n",
    "\n",
    "gestures = ['rock', 'paper', 'scissors', 'lizard', 'spock']\n",
    "\n",
    "# 5) defines new player function with new gestures\n",
    "\n",
    "def playerspock():\n",
    "    print('rock, paper, scissors, lizard or spock?')\n",
    "    resultplayer = input()\n",
    "    while (resultplayer != 'rock') & (resultplayer != 'paper') & (resultplayer != 'scissors') & (resultplayer != 'lizard') & (resultplayer != 'spock'):\n",
    "        print('Not valid')\n",
    "        print('rock, paper, scissors, lizard or spock?')\n",
    "        resultplayer = input()\n",
    "    return resultplayer\n",
    "\n",
    "# 4) executes the game\n",
    "\n",
    "while (cpu_score < rounds_to_win) & (player_score < rounds_to_win):\n",
    "    a = playerspock()\n",
    "    b = com()\n",
    "    c = winspock(a,b)\n",
    "    prints(a, b, c)\n",
    "    print(\"Player score:\", player_score)\n",
    "    print(\"COM score\", cpu_score)\n",
    "\n",
    "# 5) prints final result\n",
    "\n",
    "if (player_score > cpu_score):\n",
    "    print(\"The final winner is player\")\n",
    "elif (player_score < cpu_score):\n",
    "    print(\"The final winner is COM\")\n",
    "elif (player_score == cpu_score):\n",
    "    print(\"It's a tie\")"
   ]
  },
  {
   "cell_type": "code",
   "execution_count": null,
   "metadata": {},
   "outputs": [],
   "source": []
  }
 ],
 "metadata": {
  "kernelspec": {
   "display_name": "Python 3",
   "language": "python",
   "name": "python3"
  },
  "language_info": {
   "codemirror_mode": {
    "name": "ipython",
    "version": 3
   },
   "file_extension": ".py",
   "mimetype": "text/x-python",
   "name": "python",
   "nbconvert_exporter": "python",
   "pygments_lexer": "ipython3",
   "version": "3.8.2"
  }
 },
 "nbformat": 4,
 "nbformat_minor": 2
}

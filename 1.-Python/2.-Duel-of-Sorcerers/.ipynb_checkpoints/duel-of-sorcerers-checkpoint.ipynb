{
 "cells": [
  {
   "cell_type": "markdown",
   "metadata": {},
   "source": [
    "<img src=\"https://bit.ly/2VnXWr2\" width=\"100\" align=\"left\">"
   ]
  },
  {
   "cell_type": "markdown",
   "metadata": {},
   "source": [
    "# Duel of Sorcerers\n",
    "You are witnessing an epic battle between two powerful sorcerers: Gandalf and Saruman. Each sorcerer has 10 spells of variable power in their mind and they are going to throw them one after the other. The winner of the duel will be the one who wins more of those clashes between spells. Spells are represented as a list of 10 integers whose value equals the power of the spell.\n",
    "```\n",
    "gandalf = [10, 11, 13, 30, 22, 11, 10, 33, 22, 22]\n",
    "saruman = [23, 66, 12, 43, 12, 10, 44, 23, 12, 17]\n",
    "```\n",
    "For example:\n",
    "- The first clash is won by Saruman: 10 against 23.\n",
    "- The second clash is won by Saruman: 11 against 66.\n",
    "- ...\n",
    "\n",
    "You will create two variables, one for each sorcerer, where the sum of clashes won will be stored. Depending on which variable is greater at the end of the duel, you will show one of the following three results on the screen:\n",
    "* Gandalf wins\n",
    "* Saruman wins\n",
    "* Tie\n",
    "\n",
    "<img src=\"images/content_lightning_bolt_big.jpg\" width=\"400\">"
   ]
  },
  {
   "cell_type": "markdown",
   "metadata": {},
   "source": [
    "## Tools\n",
    "You don't necessarily need to use all the tools. Maybe you opt to use some of them or completely different ones, they are given to help you shape the exercise. Programming exercises can be solved in many different ways.\n",
    "\n",
    "1. Data structures: **lists, dictionaries**\n",
    "2. Loop: **for loop**\n",
    "3. Conditional statements: **if-elif-else**\n",
    "4. Functions: **range(), len(), print()**\n",
    "\n",
    "## Tasks\n",
    "\n",
    "#### 1. Create two variables called `gandalf` and `saruman` and assign them the spell power lists. Create a variable called `spells` to store the number of spells that the sorcerers cast. "
   ]
  },
  {
   "cell_type": "code",
   "execution_count": 1,
   "metadata": {},
   "outputs": [],
   "source": [
    "gandalf = [10, 11, 13, 30, 22, 11, 10, 33, 22, 22]\n",
    "saruman = [23, 66, 12, 43, 12, 10, 44, 23, 12, 17]\n",
    "spells = []"
   ]
  },
  {
   "cell_type": "markdown",
   "metadata": {},
   "source": [
    "#### 2. Create two variables called `gandalf_wins` and `saruman_wins`. Set both of them to 0. \n",
    "You will use these variables to count the number of clashes each sorcerer wins. "
   ]
  },
  {
   "cell_type": "code",
   "execution_count": 2,
   "metadata": {},
   "outputs": [],
   "source": [
    "gandalf_wins = 0\n",
    "saruman_wins = 0"
   ]
  },
  {
   "cell_type": "markdown",
   "metadata": {},
   "source": [
    "#### 3. Using the lists of spells of both sorcerers, update variables `gandalf_wins` and `saruman_wins` to count the number of times each sorcerer wins a clash. "
   ]
  },
  {
   "cell_type": "code",
   "execution_count": 3,
   "metadata": {},
   "outputs": [
    {
     "name": "stdout",
     "output_type": "stream",
     "text": [
      "Battle nr. 1 : Saruman wins 23  -  10\n",
      "Battle nr. 2 : Saruman wins 66  -  11\n",
      "Battle nr. 3 : Gandalf wins 13  -  12\n",
      "Battle nr. 4 : Saruman wins 43  -  30\n",
      "Battle nr. 5 : Gandalf wins 22  -  12\n",
      "Battle nr. 6 : Gandalf wins 11  -  10\n",
      "Battle nr. 7 : Saruman wins 44  -  10\n",
      "Battle nr. 8 : Gandalf wins 33  -  23\n",
      "Battle nr. 9 : Gandalf wins 22  -  12\n",
      "Battle nr. 10 : Gandalf wins 22  -  17\n"
     ]
    }
   ],
   "source": [
    "ties = 0\n",
    "\n",
    "#I added this if function in case one sorcerer has more number of spells than the other one, to avoid one clash in which one sorcerer has no spell\n",
    "if len(gandalf) == len(saruman):\n",
    "    battles = len(gandalf)\n",
    "elif len(gandalf) < len(saruman):\n",
    "    battles = len(gandalf)\n",
    "elif len(gandalf) > len(saruman):\n",
    "    battles = len(saruman)\n",
    "    \n",
    "for i in range(0, battles):\n",
    "    spells.append(i)\n",
    "\n",
    "for s in spells:\n",
    "    if gandalf[s] > saruman[s]:\n",
    "        gandalf_wins += 1\n",
    "        print('Battle nr.', s+1,': Gandalf wins', gandalf[s], ' - ', saruman[s])\n",
    "    elif gandalf[s] < saruman[s]:\n",
    "        saruman_wins +=1\n",
    "        print('Battle nr.', s+1,': Saruman wins', saruman[s], ' - ', gandalf[s])\n",
    "    elif gandalf[s] == saruman[s]:\n",
    "        ties +=1\n",
    "        print('Battle nr.', s+1,\"It's a tie: \", saruman[s], ' - ', gandalf[s])\n",
    "    else:\n",
    "        print(\"One of the spells is wrong\")"
   ]
  },
  {
   "cell_type": "markdown",
   "metadata": {},
   "source": [
    "#### 4. Who won the battle?\n",
    "Print `Gandalf wins`, `Saruman wins` or `Tie` depending on the result. "
   ]
  },
  {
   "cell_type": "code",
   "execution_count": 4,
   "metadata": {},
   "outputs": [
    {
     "name": "stdout",
     "output_type": "stream",
     "text": [
      "The winner is Gandalf with 6 battles won\n"
     ]
    }
   ],
   "source": [
    "if gandalf_wins > saruman_wins:\n",
    "    print('The winner is Gandalf with', gandalf_wins, 'battles won')\n",
    "elif gandalf_wins < saruman_wins:\n",
    "    print('The winner is Saruman with', saruman_wins, 'battles won')\n",
    "elif gandalf_wins == saruman_wins:\n",
    "    print(\"It's a tie, each one has won\", ties, \"battles\")"
   ]
  },
  {
   "cell_type": "markdown",
   "metadata": {},
   "source": [
    "## Bonus\n",
    "\n",
    "In this bonus challenge, you'll need to check the winner of the battle but this time, a sorcerer wins if he succeeds in winning 3 spell clashes in a row.\n",
    "\n",
    "Also, the spells now have a name and there is a dictionary that associates that name to a power.\n",
    "\n",
    "```\n",
    "POWER = {\n",
    "    'Fireball': 50, \n",
    "    'Lightning bolt': 40, \n",
    "    'Magic arrow': 10, \n",
    "    'Black Tentacles': 25, \n",
    "    'Contagion': 45\n",
    "}\n",
    "\n",
    "gandalf = ['Fireball', 'Lightning bolt', 'Lightning bolt', 'Magic arrow', 'Fireball', \n",
    "           'Magic arrow', 'Lightning bolt', 'Fireball', 'Fireball', 'Fireball']\n",
    "saruman = ['Contagion', 'Contagion', 'Black Tentacles', 'Fireball', 'Black Tentacles', \n",
    "           'Lightning bolt', 'Magic arrow', 'Contagion', 'Magic arrow', 'Magic arrow']\n",
    "```\n",
    "\n",
    "#### 1. Create variables `POWER`, `gandalf` and `saruman` as seen above. Create a variable called `spells` to store the number of spells that the sorcerers cast. "
   ]
  },
  {
   "cell_type": "code",
   "execution_count": 5,
   "metadata": {},
   "outputs": [],
   "source": [
    "POWER = {\n",
    "    'Fireball': 50, \n",
    "    'Lightning bolt': 40, \n",
    "    'Magic arrow': 10, \n",
    "    'Black Tentacles': 25, \n",
    "    'Contagion': 45\n",
    "}\n",
    "\n",
    "gandalf = ['Fireball', 'Lightning bolt', 'Lightning bolt', 'Magic arrow', 'Fireball', \n",
    "           'Magic arrow', 'Lightning bolt', 'Fireball', 'Fireball', 'Fireball']\n",
    "saruman = ['Contagion', 'Contagion', 'Black Tentacles', 'Fireball', 'Black Tentacles', \n",
    "           'Lightning bolt', 'Magic arrow', 'Contagion', 'Magic arrow', 'Magic arrow']\n",
    "spells = []"
   ]
  },
  {
   "cell_type": "markdown",
   "metadata": {},
   "source": [
    "#### 2. Create two variables called `gandalf_wins` and `saruman_wins`. Set both of them to 0. "
   ]
  },
  {
   "cell_type": "code",
   "execution_count": 6,
   "metadata": {},
   "outputs": [],
   "source": [
    "gandalf_wins = 0\n",
    "saruman_wins = 0"
   ]
  },
  {
   "cell_type": "markdown",
   "metadata": {},
   "source": [
    "#### 3. Create two variables called `gandalf_power` and `saruman_power` to store the list of spell powers of each sorcerer."
   ]
  },
  {
   "cell_type": "code",
   "execution_count": 7,
   "metadata": {},
   "outputs": [],
   "source": [
    "gandalf_power = []\n",
    "saruman_power = []"
   ]
  },
  {
   "cell_type": "markdown",
   "metadata": {},
   "source": [
    "#### 4. The battle starts! Using the variables you've created above, code the execution of spell clashes. Remember that a sorcerer wins if he succeeds in winning 3 spell clashes in a row. \n",
    "If a clash ends up in a tie, the counter of wins in a row is not restarted to 0. Remember to print who is the winner of the battle. "
   ]
  },
  {
   "cell_type": "code",
   "execution_count": 8,
   "metadata": {},
   "outputs": [
    {
     "name": "stdout",
     "output_type": "stream",
     "text": [
      "[0, 1, 2, 3, 4, 5, 6, 7, 8, 9]\n",
      "[50, 40, 40, 10, 50, 10, 40, 50, 50, 50]\n",
      "[45, 45, 25, 50, 25, 40, 10, 45, 10, 10]\n",
      "Gandalf has just wan the last 3 battles in round number 9\n",
      "Current wins for Gandalf: 1\n"
     ]
    }
   ],
   "source": [
    "#I added this if function in case one sorcerer has more number of spells than the other one, to avoid one clash in which one sorcerer has no spell\n",
    "if len(gandalf) == len(saruman):\n",
    "    battles = len(gandalf)\n",
    "elif len(gandalf) < len(saruman):\n",
    "    battles = len(gandalf)\n",
    "elif len(gandalf) > len(saruman):\n",
    "    battles = len(saruman)\n",
    "\n",
    "for i in range(0, battles):\n",
    "    spells.append(i)\n",
    "    \n",
    "print(spells)\n",
    "    \n",
    "for i in spells:\n",
    "    saruman_power.append(POWER[saruman[i]])\n",
    "    gandalf_power.append(POWER[gandalf[i]])\n",
    "\n",
    "gan_wins = 0\n",
    "sar_wins = 0\n",
    "    \n",
    "print(gandalf_power)\n",
    "print(saruman_power)\n",
    "\n",
    "for j in spells:\n",
    "    if gandalf_power[j] > saruman_power[j]:\n",
    "        if gan_wins == 2:\n",
    "            gandalf_wins +=1\n",
    "            print(\"Gandalf has just wan the last 3 battles in round number\", j+1)\n",
    "            print(\"Current wins for Gandalf:\", gandalf_wins)\n",
    "            gan_wins = 0\n",
    "        else:\n",
    "            gan_wins +=1\n",
    "            sar_wins = 0\n",
    "    elif saruman_power[j] > gandalf_power[j]:\n",
    "        if sar_wins == 2:\n",
    "            saruman_wins +=1\n",
    "            print(\"Saruman has just wan the last 3 battles in round number\", j+1)\n",
    "            print(\"Current wins for Saruman:\", saruman_wins)\n",
    "            gan_wins = 0\n",
    "        else:\n",
    "            sar_wins +=1\n",
    "            gan_wins = 0\n",
    "\n",
    "\n",
    "\n"
   ]
  },
  {
   "cell_type": "markdown",
   "metadata": {},
   "source": [
    "#### 5. Find the average spell power of Gandalf and Saruman. "
   ]
  },
  {
   "cell_type": "code",
   "execution_count": 9,
   "metadata": {
    "scrolled": true
   },
   "outputs": [
    {
     "name": "stdout",
     "output_type": "stream",
     "text": [
      "Average spell power of Gandalf: 39.0\n",
      "Average spell power of Saruman: 30.5\n"
     ]
    }
   ],
   "source": [
    "avg_pw_gan = sum(gandalf_power) / len(gandalf_power)\n",
    "avg_pw_sar = sum(saruman_power) / len(saruman_power)\n",
    "print('Average spell power of Gandalf:', avg_pw_gan)\n",
    "print('Average spell power of Saruman:', avg_pw_sar)"
   ]
  },
  {
   "cell_type": "markdown",
   "metadata": {},
   "source": [
    "#### 6. Find the standard deviation of the spell power of Gandalf and Saruman. "
   ]
  },
  {
   "cell_type": "code",
   "execution_count": 10,
   "metadata": {},
   "outputs": [
    {
     "name": "stdout",
     "output_type": "stream",
     "text": [
      "Standard deviation Gandalf: 15.132745950421556\n",
      "Standard deviation Saruman: 15.56438241627338\n"
     ]
    }
   ],
   "source": [
    "sum_gan = 0\n",
    "for p in gandalf_power:\n",
    "    sum_gan += ((p - avg_pw_gan)**2)\n",
    "var_gan = sum_gan / len(gandalf_power)\n",
    "dev_gan = var_gan**0.5\n",
    "print('Standard deviation Gandalf:', dev_gan)\n",
    "\n",
    "sum_sar = 0\n",
    "for p in saruman_power:\n",
    "    sum_sar += ((p - avg_pw_sar)**2)\n",
    "var_sar = sum_sar / len(saruman_power)\n",
    "dev_sar = var_sar**0.5\n",
    "print('Standard deviation Saruman:', dev_sar)"
   ]
  }
 ],
 "metadata": {
  "kernelspec": {
   "display_name": "Python 3",
   "language": "python",
   "name": "python3"
  },
  "language_info": {
   "codemirror_mode": {
    "name": "ipython",
    "version": 3
   },
   "file_extension": ".py",
   "mimetype": "text/x-python",
   "name": "python",
   "nbconvert_exporter": "python",
   "pygments_lexer": "ipython3",
   "version": "3.8.2"
  }
 },
 "nbformat": 4,
 "nbformat_minor": 2
}
